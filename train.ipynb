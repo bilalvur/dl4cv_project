{
 "cells": [
  {
   "cell_type": "code",
   "execution_count": 1,
   "metadata": {
    "collapsed": true
   },
   "outputs": [],
   "source": [
    "import numpy as np\n",
    "import matplotlib.pyplot as plt\n",
    "import torch\n",
    "import pandas as pd\n",
    "import gc\n",
    "import data_utils as utils\n",
    "from sklearn.model_selection import StratifiedKFold\n",
    "import time\n",
    "from Model import ClassificationCNN\n",
    "from Solver import Solver\n",
    "from vis_utils import visualize_grid"
   ]
  },
  {
   "cell_type": "code",
   "execution_count": 7,
   "metadata": {},
   "outputs": [
    {
     "data": {
      "text/plain": [
       "4459"
      ]
     },
     "execution_count": 7,
     "metadata": {},
     "output_type": "execute_result"
    }
   ],
   "source": [
    "train = pd.read_json('train.json')\n",
    "train = train.loc[:10].copy()\n",
    "gc.collect()"
   ]
  },
  {
   "cell_type": "markdown",
   "metadata": {},
   "source": [
    "## Take necessary columns\n",
    "## Turn data into numpy matrices, N -* H -* W\n",
    "## Here, i choose first create 3rd channel from the beginning.."
   ]
  },
  {
   "cell_type": "code",
   "execution_count": 8,
   "metadata": {
    "collapsed": true
   },
   "outputs": [],
   "source": [
    "labels = np.array(train['is_iceberg'])\n",
    "band1 = utils.unflattenBand(train['band_1'])\n",
    "band2 = utils.unflattenBand(train['band_2'])\n",
    "band3 = utils.createThirdChannel(band1,band2)\n",
    "del train"
   ]
  },
  {
   "cell_type": "markdown",
   "metadata": {},
   "source": [
    "# Smoothing"
   ]
  },
  {
   "cell_type": "code",
   "execution_count": 9,
   "metadata": {},
   "outputs": [
    {
     "data": {
      "text/plain": [
       "7"
      ]
     },
     "execution_count": 9,
     "metadata": {},
     "output_type": "execute_result"
    }
   ],
   "source": [
    "band1 = utils.smoothImages(band1)\n",
    "band2 = utils.smoothImages(band2)\n",
    "band3 = utils.smoothImages(band3)\n",
    "gc.collect()"
   ]
  },
  {
   "cell_type": "markdown",
   "metadata": {},
   "source": [
    "# Cross validation"
   ]
  },
  {
   "cell_type": "code",
   "execution_count": 10,
   "metadata": {
    "collapsed": true
   },
   "outputs": [],
   "source": [
    "skf = StratifiedKFold(n_splits=4, shuffle=True,random_state=0)"
   ]
  },
  {
   "cell_type": "code",
   "execution_count": 11,
   "metadata": {},
   "outputs": [
    {
     "name": "stdout",
     "output_type": "stream",
     "text": [
      "Train size: 64\n",
      "Val size: 3\n",
      "(3, 75, 75)\n",
      "36\n",
      "START TRAIN.\n",
      "[Iteration 1/10] TRAIN loss: 1.005\n",
      "[Epoch 1/10] TRAIN acc/loss: 0.406/1.005\n",
      "[Epoch 1/10] VAL   acc/loss: 0.667/2.619\n",
      "[Iteration 2/10] TRAIN loss: 0.238\n",
      "[Epoch 2/10] TRAIN acc/loss: 0.906/0.238\n",
      "[Epoch 2/10] VAL   acc/loss: 0.667/3.638\n",
      "[Iteration 3/10] TRAIN loss: 0.208\n",
      "[Epoch 3/10] TRAIN acc/loss: 0.984/0.208\n",
      "[Epoch 3/10] VAL   acc/loss: 0.667/3.367\n",
      "[Iteration 4/10] TRAIN loss: 0.190\n",
      "[Epoch 4/10] TRAIN acc/loss: 0.969/0.190\n",
      "[Epoch 4/10] VAL   acc/loss: 0.667/2.984\n",
      "[Iteration 5/10] TRAIN loss: 0.145\n",
      "[Epoch 5/10] TRAIN acc/loss: 1.000/0.145\n",
      "[Epoch 5/10] VAL   acc/loss: 0.667/2.630\n",
      "[Iteration 6/10] TRAIN loss: 0.139\n",
      "[Epoch 6/10] TRAIN acc/loss: 1.000/0.139\n",
      "[Epoch 6/10] VAL   acc/loss: 0.667/2.352\n",
      "[Iteration 7/10] TRAIN loss: 0.133\n",
      "[Epoch 7/10] TRAIN acc/loss: 1.000/0.133\n",
      "[Epoch 7/10] VAL   acc/loss: 0.667/2.148\n",
      "[Iteration 8/10] TRAIN loss: 0.108\n",
      "[Epoch 8/10] TRAIN acc/loss: 1.000/0.108\n",
      "[Epoch 8/10] VAL   acc/loss: 0.667/1.999\n",
      "[Iteration 9/10] TRAIN loss: 0.103\n",
      "[Epoch 9/10] TRAIN acc/loss: 1.000/0.103\n",
      "[Epoch 9/10] VAL   acc/loss: 0.667/1.877\n",
      "[Iteration 10/10] TRAIN loss: 0.120\n",
      "[Epoch 10/10] TRAIN acc/loss: 1.000/0.120\n",
      "[Epoch 10/10] VAL   acc/loss: 0.667/1.789\n",
      "FINISH.\n"
     ]
    },
    {
     "data": {
      "image/png": "[encoded data removed]",
      "text/plain": [
       "<matplotlib.figure.Figure at 0x116ecf278>"
      ]
     },
     "metadata": {},
     "output_type": "display_data"
    },
    {
     "name": "stdout",
     "output_type": "stream",
     "text": [
      "Saving model... models/classification_cnn.model\n",
      "Train size: 64\n",
      "Val size: 3\n",
      "(3, 75, 75)\n",
      "36\n",
      "START TRAIN.\n",
      "[Iteration 1/10] TRAIN loss: 0.891\n",
      "[Epoch 1/10] TRAIN acc/loss: 0.391/0.891\n",
      "[Epoch 1/10] VAL   acc/loss: 0.667/4.222\n",
      "[Iteration 2/10] TRAIN loss: 0.383\n",
      "[Epoch 2/10] TRAIN acc/loss: 0.875/0.383\n",
      "[Epoch 2/10] VAL   acc/loss: 0.667/3.863\n",
      "[Iteration 3/10] TRAIN loss: 0.223\n",
      "[Epoch 3/10] TRAIN acc/loss: 0.906/0.223\n",
      "[Epoch 3/10] VAL   acc/loss: 0.667/2.947\n",
      "[Iteration 4/10] TRAIN loss: 0.149\n",
      "[Epoch 4/10] TRAIN acc/loss: 0.969/0.149\n",
      "[Epoch 4/10] VAL   acc/loss: 0.667/2.339\n",
      "[Iteration 5/10] TRAIN loss: 0.169\n",
      "[Epoch 5/10] TRAIN acc/loss: 0.969/0.169\n",
      "[Epoch 5/10] VAL   acc/loss: 0.333/1.962\n",
      "[Iteration 6/10] TRAIN loss: 0.124\n",
      "[Epoch 6/10] TRAIN acc/loss: 1.000/0.124\n",
      "[Epoch 6/10] VAL   acc/loss: 0.333/1.734\n",
      "[Iteration 7/10] TRAIN loss: 0.125\n",
      "[Epoch 7/10] TRAIN acc/loss: 0.984/0.125\n",
      "[Epoch 7/10] VAL   acc/loss: 0.333/1.597\n",
      "[Iteration 8/10] TRAIN loss: 0.113\n",
      "[Epoch 8/10] TRAIN acc/loss: 1.000/0.113\n",
      "[Epoch 8/10] VAL   acc/loss: 0.333/1.513\n",
      "[Iteration 9/10] TRAIN loss: 0.110\n",
      "[Epoch 9/10] TRAIN acc/loss: 0.984/0.110\n",
      "[Epoch 9/10] VAL   acc/loss: 0.333/1.453\n",
      "[Iteration 10/10] TRAIN loss: 0.100\n",
      "[Epoch 10/10] TRAIN acc/loss: 1.000/0.100\n",
      "[Epoch 10/10] VAL   acc/loss: 0.333/1.409\n",
      "FINISH.\n"
     ]
    },
    {
     "data": {
      "image/png": "[encoded data removed]",
      "text/plain": [
       "<matplotlib.figure.Figure at 0x10c166b00>"
      ]
     },
     "metadata": {},
     "output_type": "display_data"
    },
    {
     "name": "stdout",
     "output_type": "stream",
     "text": [
      "Saving model... models/classification_cnn.model\n",
      "Train size: 64\n",
      "Val size: 3\n",
      "(3, 75, 75)\n",
      "36\n",
      "START TRAIN.\n",
      "[Iteration 1/10] TRAIN loss: 0.705\n",
      "[Epoch 1/10] TRAIN acc/loss: 0.547/0.705\n",
      "[Epoch 1/10] VAL   acc/loss: 0.667/4.331\n",
      "[Iteration 2/10] TRAIN loss: 0.524\n",
      "[Epoch 2/10] TRAIN acc/loss: 0.828/0.524\n",
      "[Epoch 2/10] VAL   acc/loss: 0.667/4.544\n",
      "[Iteration 3/10] TRAIN loss: 0.353\n",
      "[Epoch 3/10] TRAIN acc/loss: 0.875/0.353\n",
      "[Epoch 3/10] VAL   acc/loss: 0.667/3.498\n",
      "[Iteration 4/10] TRAIN loss: 0.369\n",
      "[Epoch 4/10] TRAIN acc/loss: 0.875/0.369\n",
      "[Epoch 4/10] VAL   acc/loss: 0.667/2.691\n",
      "[Iteration 5/10] TRAIN loss: 0.289\n",
      "[Epoch 5/10] TRAIN acc/loss: 0.875/0.289\n",
      "[Epoch 5/10] VAL   acc/loss: 0.667/2.116\n",
      "[Iteration 6/10] TRAIN loss: 0.307\n",
      "[Epoch 6/10] TRAIN acc/loss: 0.859/0.307\n",
      "[Epoch 6/10] VAL   acc/loss: 0.667/1.717\n",
      "[Iteration 7/10] TRAIN loss: 0.249\n",
      "[Epoch 7/10] TRAIN acc/loss: 0.906/0.249\n",
      "[Epoch 7/10] VAL   acc/loss: 0.667/1.405\n",
      "[Iteration 8/10] TRAIN loss: 0.272\n",
      "[Epoch 8/10] TRAIN acc/loss: 0.875/0.272\n",
      "[Epoch 8/10] VAL   acc/loss: 0.667/1.172\n",
      "[Iteration 9/10] TRAIN loss: 0.229\n",
      "[Epoch 9/10] TRAIN acc/loss: 0.906/0.229\n",
      "[Epoch 9/10] VAL   acc/loss: 0.667/0.985\n",
      "[Iteration 10/10] TRAIN loss: 0.235\n",
      "[Epoch 10/10] TRAIN acc/loss: 0.891/0.235\n",
      "[Epoch 10/10] VAL   acc/loss: 0.667/0.829\n",
      "FINISH.\n"
     ]
    },
    {
     "data": {
      "image/png": "[encoded data removed]",
      "text/plain": [
       "<matplotlib.figure.Figure at 0x10c0bcf60>"
      ]
     },
     "metadata": {},
     "output_type": "display_data"
    },
    {
     "name": "stdout",
     "output_type": "stream",
     "text": [
      "Saving model... models/classification_cnn.model\n",
      "Train size: 72\n",
      "Val size: 2\n",
      "(3, 75, 75)\n",
      "36\n",
      "START TRAIN.\n",
      "[Iteration 1/20] TRAIN loss: 0.751\n",
      "[Iteration 2/20] TRAIN loss: 0.342\n",
      "[Epoch 1/10] TRAIN acc/loss: 0.875/0.342\n",
      "[Epoch 1/10] VAL   acc/loss: 0.500/5.622\n",
      "[Iteration 3/20] TRAIN loss: 0.389\n",
      "[Iteration 4/20] TRAIN loss: 0.208\n",
      "[Epoch 2/10] TRAIN acc/loss: 1.000/0.208\n",
      "[Epoch 2/10] VAL   acc/loss: 0.500/3.802\n",
      "[Iteration 5/20] TRAIN loss: 0.351\n",
      "[Iteration 6/20] TRAIN loss: 0.218\n",
      "[Epoch 3/10] TRAIN acc/loss: 1.000/0.218\n",
      "[Epoch 3/10] VAL   acc/loss: 0.500/2.721\n",
      "[Iteration 7/20] TRAIN loss: 0.253\n",
      "[Iteration 8/20] TRAIN loss: 0.396\n",
      "[Epoch 4/10] TRAIN acc/loss: 0.875/0.396\n",
      "[Epoch 4/10] VAL   acc/loss: 0.500/2.042\n",
      "[Iteration 9/20] TRAIN loss: 0.269\n",
      "[Iteration 10/20] TRAIN loss: 0.407\n",
      "[Epoch 5/10] TRAIN acc/loss: 0.875/0.407\n",
      "[Epoch 5/10] VAL   acc/loss: 0.500/1.893\n",
      "[Iteration 11/20] TRAIN loss: 0.207\n",
      "[Iteration 12/20] TRAIN loss: 0.531\n",
      "[Epoch 6/10] TRAIN acc/loss: 0.750/0.531\n",
      "[Epoch 6/10] VAL   acc/loss: 0.500/1.566\n",
      "[Iteration 13/20] TRAIN loss: 0.194\n",
      "[Iteration 14/20] TRAIN loss: 0.072\n",
      "[Epoch 7/10] TRAIN acc/loss: 1.000/0.072\n",
      "[Epoch 7/10] VAL   acc/loss: 0.500/1.359\n",
      "[Iteration 15/20] TRAIN loss: 0.157\n",
      "[Iteration 16/20] TRAIN loss: 0.187\n",
      "[Epoch 8/10] TRAIN acc/loss: 1.000/0.187\n",
      "[Epoch 8/10] VAL   acc/loss: 0.500/1.399\n",
      "[Iteration 17/20] TRAIN loss: 0.152\n",
      "[Iteration 18/20] TRAIN loss: 0.385\n",
      "[Epoch 9/10] TRAIN acc/loss: 0.625/0.385\n",
      "[Epoch 9/10] VAL   acc/loss: 0.500/1.374\n",
      "[Iteration 19/20] TRAIN loss: 0.155\n",
      "[Iteration 20/20] TRAIN loss: 0.461\n",
      "[Epoch 10/10] TRAIN acc/loss: 0.750/0.461\n",
      "[Epoch 10/10] VAL   acc/loss: 0.500/1.296\n",
      "FINISH.\n"
     ]
    },
    {
     "data": {
      "image/png": "[encoded data removed]",
      "text/plain": [
       "<matplotlib.figure.Figure at 0x10f4b79e8>"
      ]
     },
     "metadata": {},
     "output_type": "display_data"
    },
    {
     "name": "stdout",
     "output_type": "stream",
     "text": [
      "Saving model... models/classification_cnn.model\n"
     ]
    }
   ],
   "source": [
    "for train_index, val_index in skf.split(band1, labels):\n",
    "\n",
    "    utils.GetTrainValidationDataForKFoldCrossValidation(train_index, val_index, [band1,band2,band3], labels)\n",
    "    train_data, val_data = utils.GetTrainValidationDataForKFoldCrossValidation\\\n",
    "        (train_index, val_index, [band1,band2,band3], labels)\n",
    "\n",
    "    print(\"Train size: %i\" % len(train_data))\n",
    "    print(\"Val size: %i\" % len(val_data))\n",
    "\n",
    "    num_train = 100\n",
    "    train_loader = torch.utils.data.DataLoader(train_data, batch_size=64, shuffle=True, num_workers=4)\n",
    "    val_loader = torch.utils.data.DataLoader(val_data, batch_size=64, shuffle=True, num_workers=4)\n",
    "\n",
    "    model = ClassificationCNN(input_dim = (3,75,75),num_filters=30)\n",
    "    solver = Solver(optim_args={\"lr\": 1e-3})\n",
    "    solver.train(model, train_loader, val_loader, log_nth=1, num_epochs=10)\n",
    "\n",
    "    plt.subplot(2, 1, 1)\n",
    "    plt.plot(solver.train_loss_history, 'o')\n",
    "    plt.plot(solver.val_loss_history, 'o')\n",
    "    plt.xlabel('iteration')\n",
    "    plt.ylabel('loss')\n",
    "\n",
    "    plt.subplot(2, 1, 2)\n",
    "    plt.plot(solver.train_acc_history, '-o')\n",
    "    plt.plot(solver.val_acc_history, '-o')\n",
    "    plt.legend(['train', 'val'], loc='upper left')\n",
    "    plt.xlabel('epoch')\n",
    "    plt.ylabel('accuracy')\n",
    "    plt.show()\n",
    "\n",
    "\n",
    "\n",
    "    model.save(\"models/classification_cnn.model\")"
   ]
  },
  {
   "cell_type": "code",
   "execution_count": null,
   "metadata": {
    "collapsed": true
   },
   "outputs": [],
   "source": []
  },
  {
   "cell_type": "code",
   "execution_count": null,
   "metadata": {
    "collapsed": true
   },
   "outputs": [],
   "source": []
  },
  {
   "cell_type": "code",
   "execution_count": null,
   "metadata": {
    "collapsed": true
   },
   "outputs": [],
   "source": []
  },
  {
   "cell_type": "code",
   "execution_count": null,
   "metadata": {
    "collapsed": true
   },
   "outputs": [],
   "source": []
  },
  {
   "cell_type": "code",
   "execution_count": null,
   "metadata": {
    "collapsed": true
   },
   "outputs": [],
   "source": []
  }
 ],
 "metadata": {
  "kernelspec": {
   "display_name": "Python 3",
   "language": "python",
   "name": "python3"
  },
  "language_info": {
   "codemirror_mode": {
    "name": "ipython",
    "version": 3
   },
   "file_extension": ".py",
   "mimetype": "text/x-python",
   "name": "python",
   "nbconvert_exporter": "python",
   "pygments_lexer": "ipython3",
   "version": "3.6.3"
  }
 },
 "nbformat": 4,
 "nbformat_minor": 1
}
